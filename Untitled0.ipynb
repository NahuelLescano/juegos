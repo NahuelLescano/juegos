{
  "nbformat": 4,
  "nbformat_minor": 0,
  "metadata": {
    "colab": {
      "name": "Untitled0.ipynb",
      "provenance": [],
      "authorship_tag": "ABX9TyPSERupmwWSWAhriZo2icCO",
      "include_colab_link": true
    },
    "kernelspec": {
      "name": "python3",
      "display_name": "Python 3"
    },
    "language_info": {
      "name": "python"
    }
  },
  "cells": [
    {
      "cell_type": "markdown",
      "metadata": {
        "id": "view-in-github",
        "colab_type": "text"
      },
      "source": [
        "<a href=\"https://colab.research.google.com/github/NahuelLescano/juegos/blob/main/Untitled0.ipynb\" target=\"_parent\"><img src=\"https://colab.research.google.com/assets/colab-badge.svg\" alt=\"Open In Colab\"/></a>"
      ]
    },
    {
      "cell_type": "code",
      "metadata": {
        "colab": {
          "base_uri": "https://localhost:8080/",
          "height": 552
        },
        "id": "J2GtgDbLi1G-",
        "outputId": "ec3a0d5a-7963-4d0e-ac60-6ac377ff20b8"
      },
      "source": [
        "\n",
        "import tensorflow as tf\n",
        "import numpy as np\n",
        "\n",
        "celsius=np.array([-40,-10,0,8,15,22,38],dtype=float)\n",
        "fahrenheit=np.array([-40,14,32,46,59,72,100],dtype=float)\n",
        "\n",
        "#capa = tf.keras.layers.Dense(units=1, input_shape=[1])\n",
        "#modelo = tf.keras.Sequential([capa])\n",
        "\n",
        "oculta1 = tf.keras.layers.Dense(units=3, input_shape=[1])\n",
        "oculta2 = tf.keras.layers.Dense(units=3)\n",
        "salida = tf.keras.layers.Dense(units=1)\n",
        "modelo = tf.keras.Sequential([oculta1, oculta2, salida])\n",
        "\n",
        "modelo.compile(\n",
        "    optimizer=tf.keras.optimizers.Adam(0.1),\n",
        "    loss=\"mean_squared_error\"\n",
        ")\n",
        "\n",
        "print(\"Comienzo de entrenamiento\")\n",
        "historial=modelo.fit(celsius,fahrenheit,epochs=1000,verbose=False)\n",
        "\n",
        "import matplotlib.pyplot as plt\n",
        "plt.xlabel(\"#Epoca\")\n",
        "plt.ylabel(\"Magnitud de perdida\")\n",
        "plt.plot(historial.history[\"loss\"])\n",
        "\n",
        "print(\"Hagamos una prediccion!\")\n",
        "resultado=modelo.predict([100.0])\n",
        "print(\"El resultado es \"+ str(resultado)+\" Fahrenheit!\")\n",
        "\n",
        "print(\"Variables internas del modelo\")\n",
        "print(capa.get_weights())\n",
        "\n",
        "print(\"Hagamos una prediccion!\")\n",
        "resultado=modelo.predict([100.0])\n",
        "print(\"l resultado es \"+ str(resultado) + \" fahrenheit\")\n",
        "\n",
        "print(\"Variables internas del modelo\")\n",
        "print(oculta1.get_weights())\n",
        "print(oculta2.get_weights())\n",
        "print(salida.get_weights())\n"
      ],
      "execution_count": 19,
      "outputs": [
        {
          "output_type": "stream",
          "name": "stdout",
          "text": [
            "Comienzo de entrenamiento\n",
            "Hagamos una prediccion!\n",
            "El resultado es [[211.74745]] Fahrenheit!\n",
            "Variables internas del modelo\n",
            "[array([[1.7981458]], dtype=float32), array([31.92932], dtype=float32)]\n",
            "Hagamos una prediccion!\n",
            "l resultado es [[211.74745]] fahrenheit\n",
            "Variables internas del modelo\n",
            "[array([[-0.2456641 ,  0.13179238, -0.41416702]], dtype=float32), array([-3.2703283,  2.4260843, -3.854279 ], dtype=float32)]\n",
            "[array([[-1.1651886 ,  0.7250275 , -0.04282581],\n",
            "       [ 0.37904498, -0.81097305, -0.10605856],\n",
            "       [-1.8763305 ,  0.18009366, -0.4222206 ]], dtype=float32), array([ 4.1647153, -1.8806223, -2.2204428], dtype=float32)]\n",
            "[array([[ 1.587702  ],\n",
            "       [-0.3311997 ],\n",
            "       [-0.51779026]], dtype=float32), array([3.6905394], dtype=float32)]\n"
          ]
        },
        {
          "output_type": "display_data",
          "data": {
            "image/png": "[encoded data removed]",
            "text/plain": [
              "<Figure size 432x288 with 1 Axes>"
            ]
          },
          "metadata": {
            "needs_background": "light"
          }
        }
      ]
    }
  ]
}